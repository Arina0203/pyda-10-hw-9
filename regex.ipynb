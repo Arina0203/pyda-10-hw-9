{
 "cells": [
  {
   "cell_type": "markdown",
   "metadata": {},
   "source": [
    "**Задание 1.** Напишите функцию, которая принимает на вход строку и проверяет является ли она валидным транспортным номером. Если да, то функция должна возвращать отдельно номер и регион."
   ]
  },
  {
   "cell_type": "code",
   "execution_count": 5,
   "metadata": {},
   "outputs": [
    {
     "name": "stdout",
     "output_type": "stream",
     "text": [
      "Введите гос номер авто: К962МН777\n",
      "962-777\n"
     ]
    }
   ],
   "source": [
    "import re\n",
    "gos_number = input('Введите гос номер авто: ')\n",
    "regex_gos_number = r'([АВЕКСНМОРТУХ]{1})(\\d{3})([АВЕКСНМОРТУХ]{2})(\\d{2,3})'\n",
    "if re.findall(regex_gos_number, gos_number):\n",
    "    print(re.sub(regex_gos_number, r'\\2-\\4', gos_number))\n",
    "else:\n",
    "    print('Неправильный ввод')\n"
   ]
  },
  {
   "cell_type": "markdown",
   "metadata": {},
   "source": [
    "**Задание 2**. Постарайтесь написать (в крайнем случае найти) самый полный шаблон для проверки e-mail адресов через регулярное выражение, которая проверяет e-mail адрес на валидность. Можно руководствоваться следующими минимальными требованиями:\n",
    "* адрес должен содержать специальный символ \"@\", который отделяет имя пользователя почтовой системы от доменного имени;\n",
    "* адрес не должен содержать следующие символы: \"пробел\", \",\", \":\", \";\", \"!\", \"#\", \"%\", \"*\", \"(\", \")\", \"=\", \"+\", \"{\", \"}\", \" \" \", \" ' \", \" / \", \" \\ \" и \"|\";\n",
    "* адрес должен состоять только из латинских символов;\n",
    "* после символа \"@\" должна быть как минимум одна \".\";\n",
    "* после последней точки должно быть не менее 2-х и не более 4-х символов, причем наличие цифр не допускается;\n",
    "* между последней точкой и символом \"@\" должно быть не менее 2-х символов\n",
    "* слева от \"@\" должно быть не менее четырех символов\n"
   ]
  },
  {
   "cell_type": "code",
   "execution_count": 30,
   "metadata": {},
   "outputs": [
    {
     "name": "stdout",
     "output_type": "stream",
     "text": [
      "Введите email адрес: ARINA@MAIL.RU\n",
      "ARINA@MAIL.RU\n"
     ]
    }
   ],
   "source": [
    "#^[A-Z0-9._%+-]+@[A-Z0-9.-]+\\.[A-Z]{2,4}$\n",
    "#\\b[A-Z0-9._%+-]+@[A-Z0-9.-]+\\.[A-Z]{2,4}\\b\n",
    "email = input('Введите email адрес: ')\n",
    "regex_email = r'(^[A-Z0-9._%+-]+@[A-Z0-9.-]+\\.[A-Z]{2,4}$)'\n",
    "if re.findall(regex_email, email):\n",
    "    print(email)\n",
    "else:\n",
    "    print('Неправильный ввод')    \n",
    "\n"
   ]
  },
  {
   "cell_type": "markdown",
   "metadata": {},
   "source": [
    "**Задание 3.** Напишите функцию, которая будет удалять все последовательные повторы слов из заданной строки при помощи регулярных выражений."
   ]
  },
  {
   "cell_type": "code",
   "execution_count": 14,
   "metadata": {},
   "outputs": [
    {
     "data": {
      "text/plain": [
       "'hello world'"
      ]
     },
     "execution_count": 14,
     "metadata": {},
     "output_type": "execute_result"
    }
   ],
   "source": [
    "def correct_string():\n",
    "    string = 'hello hello world world world world'\n",
    "    #string = 'хлеб хлеб купи купи'\n",
    "    pat = '(?i)\\\\b(\\\\w+)(?:\\\\s+\\\\1\\\\b)+'\n",
    "    return re.sub(pat, r'\\1', string)\n",
    "correct_string()"
   ]
  },
  {
   "cell_type": "markdown",
   "metadata": {},
   "source": [
    "**Задание 4**. Напишите функцию, которая будет проверять номер сотового телефона на валидность, если он валиден, то переводить его в формат:   \n",
    "+7(xxx)-xxx-xx-xx  \n",
    "Постарайтесь предусмотреть как можно больше адекватных форматов изначального ввода номера.\n",
    "Примеры валидных форматов:\n",
    "- +7 955 555-55-55;\n",
    "- 9555555555;\n",
    "- 8(955)555-55-55;\n",
    "- +7 955 555 55 55;\n",
    "- 7(955) 555-55-55;\n",
    "- +7 955+555+55+55."
   ]
  },
  {
   "cell_type": "code",
   "execution_count": 11,
   "metadata": {},
   "outputs": [
    {
     "name": "stdout",
     "output_type": "stream",
     "text": [
      "Введите номер телефона: 89036650408\n"
     ]
    },
    {
     "data": {
      "text/plain": [
       "'+7(903)-665-04-08'"
      ]
     },
     "execution_count": 11,
     "metadata": {},
     "output_type": "execute_result"
    }
   ],
   "source": [
    "def correct_number():\n",
    "    number = input('Введите номер телефона: ')\n",
    "    pattern = r'\\+?[87]*\\s*\\(?(\\d{3})\\)?\\s*[+\\-]?(\\d{3})\\s*[+\\-]?(\\d{2})\\s*[+\\-]?\\s*(\\d{2})'\n",
    "    correct_format = r'+7(\\1)-\\2-\\3-\\4'\n",
    "    return re.sub(pattern, correct_format, number)\n",
    "correct_number()    \n"
   ]
  },
  {
   "cell_type": "code",
   "execution_count": null,
   "metadata": {},
   "outputs": [],
   "source": []
  },
  {
   "cell_type": "code",
   "execution_count": null,
   "metadata": {},
   "outputs": [],
   "source": []
  }
 ],
 "metadata": {
  "kernelspec": {
   "display_name": "Python 3",
   "language": "python",
   "name": "python3"
  },
  "language_info": {
   "codemirror_mode": {
    "name": "ipython",
    "version": 3
   },
   "file_extension": ".py",
   "mimetype": "text/x-python",
   "name": "python",
   "nbconvert_exporter": "python",
   "pygments_lexer": "ipython3",
   "version": "3.7.6"
  }
 },
 "nbformat": 4,
 "nbformat_minor": 2
}
